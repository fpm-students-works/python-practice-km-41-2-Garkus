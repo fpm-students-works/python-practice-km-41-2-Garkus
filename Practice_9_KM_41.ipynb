{
 "cells": [
  {
   "cell_type": "markdown",
   "metadata": {
    "id": "FMqboNwO4rVs"
   },
   "source": [
    "# **Курс \"Програмування на мові Python\"**"
   ]
  },
  {
   "cell_type": "markdown",
   "metadata": {
    "id": "A2T6MigL5Z06"
   },
   "source": [
    "## **Практичне зайняття №9**\n",
    "\n",
    "### Тема: \"Робота з функціями. Локальні та глобальні змінні\""
   ]
  },
  {
   "cell_type": "markdown",
   "metadata": {
    "id": "cfCdgK2zXm7e"
   },
   "source": [
    "### **Завдання 1 (3 бали)**\n",
    "\n",
    "**Підрахувати визначник матриці, використовуючи правило перестановок.**\n",
    "\n",
    "Функція random_matrix() призначена для створення квадратної матриці випадкових чисел. Її змінювати непотрібно.\n",
    "\n",
    "Приклад використання методу permutations() для створення списку перестановок також подається у комірці з кодом.\n",
    "\n",
    "1) Створити 3 функції: функцію створення списку перестановок, функцію підрахунку добутків та функцію підрахунку загальної суми.\n",
    "\n",
    "2) Кожна функція має супроводжуватись рядком документації, що буде коротко описувати її призначення.\n",
    "\n",
    "3) Розмірність квадратної матриці має вводитись користувачем з клавіатури. Підрахунки виконувати лише в тому разі, якщо користувач введе ціле додатне число.\n",
    "\n",
    "4) Загальний результат повинен підраховуватись за допомогою композиції функцій.\n",
    "\n",
    "За бажанням можна перевірити правильність роботи програми за допомогою функції np.linalg.det(a)."
   ]
  },
  {
   "cell_type": "code",
   "execution_count": null,
   "metadata": {
    "id": "ifNX2M7LXm7f"
   },
   "outputs": [],
   "source": [
    "import numpy as np\n",
    "import itertools\n",
    "\n",
    "def random_matrix(dim):\n",
    "    \"\"\"\n",
    "    The function generates dim x dim array of integers\n",
    "    between 0 and 10.\n",
    "    \"\"\"\n",
    "    matrix = np.random.randint(10, size = (dim, dim))\n",
    "    return matrix\n",
    "def create_permutations(dim):\n",
    "    \"\"\"\n",
    "    Creates a list of all permutations of indexes for matrix size dim\n",
    "    \"\"\"\n",
    "    return list(itertools.permutations(range(dim)))\n",
    "def permutation_sign(perm):\n",
    "    \"\"\"\n",
    "    Calculates the sign of the permutation (+1 or -1)\n",
    "    \"\"\"\n",
    "    inversions = 0\n",
    "    for i in range(len(perm)):\n",
    "        for j in range(i+1, len(perm)):\n",
    "            if perm[i] > perm[j]:\n",
    "                inversions += 1\n",
    "    return -1 if inversions % 2 else 1\n",
    "def product_for_permutations(matrix, perm):\n",
    "    \"\"\"\n",
    "    Calculates the product of matrix elements for a specific permutation\n",
    "    \"\"\"\n",
    "    dim = len(matrix)\n",
    "    product = 1\n",
    "    for i in range(dim):\n",
    "        product *= matrix[i, perm[i]]\n",
    "    return product\n",
    "def det_from_permutations(matrix):\n",
    "    \"\"\"\n",
    "    Calculates determinant of matrix using permutations\n",
    "    \"\"\"\n",
    "    dim = len(matrix)\n",
    "    perms = create_permutations(dim)\n",
    "    determinant = 0\n",
    "    for perm in perms:\n",
    "        sign = permutation_sign(perm)\n",
    "        product = product_for_permutations(matrix, perm)\n",
    "        determinant += sign * product\n",
    "    return determinant\n",
    "def main():\n",
    "    try:\n",
    "        dim = int(input(\"Enter the dimension of the square matrix: \"))\n",
    "        if dim <= 0:\n",
    "            print(\"Please enter a positive integer.\")\n",
    "            return\n",
    "    except ValueError:\n",
    "        print(\"Invalid value entered. You must enter an integer.\")\n",
    "        return\n",
    "    matrix = random_matrix(dim)\n",
    "    print(\"Generated matrix:\")\n",
    "    print(matrix)\n",
    "    determinant = det_from_permutations(matrix)\n",
    "    print(f\"Determinant of the matrix: {determinant}\")\n",
    "main()"
   ]
  }
 ],
 "metadata": {
  "colab": {
   "collapsed_sections": [],
   "name": "Practice_7_KM-01_.ipynb",
   "provenance": []
  },
  "kernelspec": {
   "display_name": "Python 3",
   "language": "python",
   "name": "python3"
  },
  "language_info": {
   "codemirror_mode": {
    "name": "ipython",
    "version": 3
   },
   "file_extension": ".py",
   "mimetype": "text/x-python",
   "name": "python",
   "nbconvert_exporter": "python",
   "pygments_lexer": "ipython3",
   "version": "3.12.6"
  }
 },
 "nbformat": 4,
 "nbformat_minor": 0
}
